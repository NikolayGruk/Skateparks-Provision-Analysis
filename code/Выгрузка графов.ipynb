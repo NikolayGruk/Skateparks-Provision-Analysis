{
  "cells": [
    {
      "cell_type": "markdown",
      "metadata": {
        "id": "52H13kp3Dhph"
      },
      "source": [
        "\n",
        "\n",
        "```\n",
        "Район  | Население | OSM id\n",
        "---\n",
        "Адмиралтейский | 12341 | 1114193\n",
        "Василеостровский | 16953 | 1114252\n",
        "Выборгский | 43807 | 1114354\n",
        "Калининский | 40375 | 1114806\n",
        "Кировский | 25782 | 1114809\n",
        "Колпинский | 13697 | 337424\n",
        "Красногвардейский | 27147 | 1114895\n",
        "Красносельский | 33095 | 363103\n",
        "Кронштадтский | 4710 | 1115082\n",
        "Курортный | 6508 | 1115366\n",
        "Московский | 23139 | 338636\n",
        "Невский | 40389 | 368287\n",
        "Петроградский | 12664 | 1114905\n",
        "Петродворцовый | 14133 | 367375\n",
        "Приморский | 51289 | 1115367\n",
        "Пушкинский | 24925 | 338635\n",
        "Фрунзенский | 30294 | 369514\n",
        "Центральный | 12902 | 1114902\n",
        "---\n",
        "Кудрово | 10669 | 2571986\n",
        "Янино-1 | 3423 | 1547811\n",
        "Новое Девяткино | 4095 | 1570740\n",
        "Бугры | 5718 | 4299636\n",
        "Аннино | 1649 | 3341098\n",
        "Мурино | 18107 | 1657571\n",
        "Сертолово | 11523 | 1560826\n",
        "```\n"
      ]
    },
    {
      "cell_type": "code",
      "execution_count": null,
      "metadata": {
        "id": "2_Ljvr8SdXHZ"
      },
      "outputs": [],
      "source": [
        "# Устанавливаем все, что будет необходимо для работы: библиотеки\n",
        "\n",
        "!pip install ObjectNat\n",
        "!pip install folium matplotlib mapclassify"
      ]
    },
    {
      "cell_type": "code",
      "execution_count": null,
      "metadata": {
        "id": "0v7OvxENdkUZ"
      },
      "outputs": [],
      "source": [
        "import geopandas as gpd\n",
        "import pandas as pd\n",
        "import numpy as np\n",
        "import osmnx as ox\n",
        "import os\n",
        "import warnings\n",
        "import pickle\n",
        "import networkx as nx\n",
        "import iduedu\n",
        "\n",
        "from shapely import MultiPolygon, Polygon\n",
        "\n",
        "from objectnat import config\n",
        "from objectnat import get_boundary\n",
        "from objectnat import get_walk_graph\n",
        "from objectnat import get_all_public_transport_graph\n",
        "from objectnat import join_pt_walk_graph\n",
        "\n",
        "logger = config.logger\n",
        "warnings.filterwarnings(\"ignore\") # отключаем все предупреждения"
      ]
    },
    {
      "cell_type": "code",
      "execution_count": null,
      "metadata": {
        "id": "aNrhWGQteKUp"
      },
      "outputs": [],
      "source": [
        "data_path = '/content/data' # определяем путь к файлм"
      ]
    },
    {
      "cell_type": "code",
      "execution_count": null,
      "metadata": {
        "id": "71GJ_eZcckAR"
      },
      "outputs": [],
      "source": [
        "# Get territory boundary\n",
        "\n",
        "# Fetching the territory boundary using the OSM ID for the specific relation.\n",
        "# The OSM ID refers to a particular area on OpenStreetMap.\n",
        "\n",
        "bounds = get_boundary(osm_id=1114193)  # OSM ID for https://www.openstreetmap.org/relation/1114252"
      ]
    },
    {
      "cell_type": "code",
      "execution_count": null,
      "metadata": {
        "id": "N3gXmXwDcpu5"
      },
      "outputs": [],
      "source": [
        "# Get walk_graph for boundary\n",
        "# Generating a walking graph for the defined boundary.\n",
        "\n",
        "G_walk = get_walk_graph(polygon=bounds)"
      ]
    },
    {
      "cell_type": "code",
      "execution_count": null,
      "metadata": {
        "id": "oORroGzCdCbh"
      },
      "outputs": [],
      "source": [
        "# Get single or multi type public transport graph for boundary\n",
        "\n",
        "# Setting 'clip_by_bounds' to True to remove all nodes outside the bounds, and 'keep_geometry' to False to minimize graph size by not saving real geometries.\n",
        "G_public_t = get_all_public_transport_graph(polygon=bounds, clip_by_bounds=True, keep_geometry=False)"
      ]
    },
    {
      "cell_type": "code",
      "execution_count": null,
      "metadata": {
        "id": "wl0RPSNWdnGZ"
      },
      "outputs": [],
      "source": [
        "# Joining the subway public transport graph with the walking graph.\n",
        "# This creates a combined graph that allows for seamless transitions between public transport and walking paths.\n",
        "G_intermodal = join_pt_walk_graph(G_walk,G_public_t)"
      ]
    },
    {
      "cell_type": "code",
      "execution_count": null,
      "metadata": {
        "id": "wKrchadmdloB"
      },
      "outputs": [],
      "source": [
        "pickle.dump(G_intermodal, open('Адмиралтейский graph.pickle', 'wb')) # сохранить в пикл"
      ]
    }
  ],
  "metadata": {
    "colab": {
      "provenance": []
    },
    "kernelspec": {
      "display_name": "Python 3",
      "name": "python3"
    },
    "language_info": {
      "name": "python"
    }
  },
  "nbformat": 4,
  "nbformat_minor": 0
}
