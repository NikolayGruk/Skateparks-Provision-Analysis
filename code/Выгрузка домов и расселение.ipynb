{
  "cells": [
    {
      "cell_type": "code",
      "execution_count": null,
      "metadata": {
        "id": "edp20Nw3pT3f"
      },
      "outputs": [],
      "source": [
        "# Устанавливаем все, что будет необходимо для работы: библиотеки\n",
        "\n",
        "!pip install ObjectNat\n",
        "!pip install folium matplotlib mapclassify"
      ]
    },
    {
      "cell_type": "code",
      "execution_count": null,
      "metadata": {
        "id": "bRgc3Sd_qwVb"
      },
      "outputs": [],
      "source": [
        "# Устанавливаем все, что будет необходимо для работы: все остальное\n",
        "\n",
        "import geopandas as gpd\n",
        "import pandas as pd\n",
        "import numpy as np\n",
        "import osmnx as ox\n",
        "import os\n",
        "import pandas as pd\n",
        "import warnings\n",
        "import iduedu\n",
        "\n",
        "from iduedu import get_boundary\n",
        "from shapely import MultiPolygon, Polygon\n",
        "\n",
        "from objectnat import config\n",
        "\n",
        "logger = config.logger\n",
        "warnings.filterwarnings(\"ignore\") # отключаем все предупреждения"
      ]
    },
    {
      "cell_type": "code",
      "execution_count": null,
      "metadata": {
        "id": "UEBuP0T_v5Dh"
      },
      "outputs": [],
      "source": [
        "# data_path = '/content/data' # определяем путь к файлм\n",
        "\n",
        "data_path = 'F:/Резерв/Учеба/НИР-3/Чат gpt/Выгрузка зданий и расселение'\n"
      ]
    },
    {
      "cell_type": "code",
      "execution_count": null,
      "metadata": {
        "id": "x0Ty8rGYrAWD"
      },
      "outputs": [],
      "source": [
        "def eval_is_living(row: gpd.GeoSeries):\n",
        "    \"\"\"\n",
        "    Determine if a building is used for residential purposes based on its attributes.\n",
        "\n",
        "    Parameters\n",
        "    ----------\n",
        "    row : gpd.GeoSeries\n",
        "        A GeoSeries representing a row in a GeoDataFrame, containing building attributes.\n",
        "\n",
        "    Returns\n",
        "    -------\n",
        "    bool\n",
        "        A boolean indicating whether the building is used for residential purposes.\n",
        "\n",
        "    Examples\n",
        "    --------\n",
        "    >>> buildings = download_buildings(osm_territory_id=421007)\n",
        "    >>> buildings['is_living'] = buildings.apply(eval_is_living, axis=1)\n",
        "    \"\"\"\n",
        "    return row[\"building\"] in (\n",
        "        \"apartments\",\n",
        "        \"house\",\n",
        "        \"residential\",\n",
        "        \"detached\",\n",
        "        \"dormitory\",\n",
        "        \"semidetached_house\",\n",
        "        \"bungalow\",\n",
        "        \"cabin\",\n",
        "        \"farm\",\n",
        "    )\n"
      ]
    },
    {
      "cell_type": "code",
      "execution_count": null,
      "metadata": {
        "id": "RlAx2_joq81T"
      },
      "outputs": [],
      "source": [
        "def eval_population(source: gpd.GeoDataFrame, population_column: str, area_per_person: float = 33):\n",
        "    \"\"\"\n",
        "    Estimate the population of buildings in a GeoDataFrame based on their attributes.\n",
        "\n",
        "    Parameters\n",
        "    ----------\n",
        "    source : gpd.GeoDataFrame\n",
        "        A GeoDataFrame containing building geometries and attributes.\n",
        "    population_column : str\n",
        "        The name of the column where the estimated population will be stored.\n",
        "    area_per_person : float\n",
        "        The standart living space per person im m², (default is 33)\n",
        "    Returns\n",
        "    -------\n",
        "    gpd.GeoDataFrame\n",
        "        A GeoDataFrame with an added column for estimated population.\n",
        "\n",
        "    Raises\n",
        "    ------\n",
        "    RuntimeError\n",
        "        If the 'building:levels' column is not present in the provided GeoDataFrame.\n",
        "\n",
        "    Examples\n",
        "    --------\n",
        "    >>> source = gpd.read_file('buildings.shp')\n",
        "    >>> source['is_living'] = source.apply(eval_is_living, axis=1)\n",
        "    >>> population_df = eval_population(source, 'approximate_pop')\n",
        "    \"\"\"\n",
        "    if \"building:levels\" not in source.columns:\n",
        "        raise RuntimeError(\"No 'building:levels' column in provided GeoDataFrame\")\n",
        "    df = source.copy()\n",
        "    local_crs = source.estimate_utm_crs()\n",
        "    df[\"area\"] = df.to_crs(local_crs).geometry.area.astype(float)\n",
        "    df[\"building:levels_is_real\"] = df[\"building:levels\"].apply(lambda x: False if pd.isna(x) else True)\n",
        "    df[\"building:levels\"] = df[\"building:levels\"].fillna(1)\n",
        "    df[\"building:levels\"] = pd.to_numeric(df[\"building:levels\"], errors=\"coerce\")\n",
        "    df = df.dropna(subset=[\"building:levels\"])\n",
        "    df[\"building:levels\"] = df[\"building:levels\"].astype(int)\n",
        "    df[population_column] = np.nan\n",
        "    df.loc[df[\"is_living\"] == 1, population_column] = (\n",
        "        df[df[\"is_living\"] == 1]\n",
        "        .apply(\n",
        "            lambda row: (\n",
        "                3\n",
        "                if ((row[\"area\"] <= 400) & (row[\"building:levels\"] <= 2))\n",
        "                else (row[\"building:levels\"] * row[\"area\"] * 0.8 / area_per_person)\n",
        "            ),\n",
        "            axis=1,\n",
        "        )\n",
        "        .round(0)\n",
        "        .astype(int)\n",
        "    )\n",
        "    return df"
      ]
    },
    {
      "cell_type": "code",
      "execution_count": null,
      "metadata": {
        "id": "NNWFRtxaq5Wb"
      },
      "outputs": [],
      "source": [
        "def download_buildings(\n",
        "    osm_territory_id: int | None = None,\n",
        "    osm_territory_name: str | None = None,\n",
        "    terr_polygon: Polygon | MultiPolygon | None = None,\n",
        "    is_living_column: str = \"is_living\",\n",
        "    population_column: str = \"approximate_pop\",\n",
        "    area_per_person: float = 33,\n",
        ") -> gpd.GeoDataFrame | None:\n",
        "    \"\"\"\n",
        "    Download building geometries and evaluate 'is_living' and 'population'\n",
        "     attributes for a specified territory from OpenStreetMap.\n",
        "\n",
        "    Parameters\n",
        "    ----------\n",
        "    osm_territory_id : int, optional\n",
        "        The OpenStreetMap ID of the territory to download buildings for.\n",
        "    osm_territory_name : str, optional\n",
        "        The name of the territory to download buildings for.\n",
        "    terr_polygon : Polygon or MultiPolygon, optional\n",
        "        A Polygon or MultiPolygon geometry defining the territory to download buildings for.\n",
        "    is_living_column : str, optional\n",
        "        The name of the column indicating whether a building is residential (default is \"is_living\").\n",
        "    population_column : str, optional\n",
        "        The name of the column for storing estimated population (default is \"approximate_pop\").\n",
        "    area_per_person : float\n",
        "        The standart living space per person im m², (default is 33)\n",
        "    Returns\n",
        "    -------\n",
        "    gpd.GeoDataFrame or None\n",
        "        A GeoDataFrame containing building geometries and attributes, or None if no buildings are found or an error occurs.\n",
        "\n",
        "    Examples\n",
        "    --------\n",
        "    >>> buildings_df = download_buildings(osm_territory_name=\"Saint-Petersburg, Russia\")\n",
        "    >>> buildings_df.head()\n",
        "    \"\"\"\n",
        "    polygon = get_boundary(osm_territory_id, osm_territory_name, terr_polygon)\n",
        "\n",
        "    logger.debug(\"Downloading buildings from OpenStreetMap and counting population...\")\n",
        "    buildings = ox.features_from_polygon(polygon, tags={\"building\": True})\n",
        "    if not buildings.empty:\n",
        "        buildings = buildings.loc[\n",
        "            (buildings[\"geometry\"].geom_type == \"Polygon\") | (buildings[\"geometry\"].geom_type == \"MultiPolygon\")\n",
        "        ]\n",
        "    if buildings.empty:\n",
        "        logger.warning(\"There are no buildings in the specified territory. Output GeoDataFrame is empty.\")\n",
        "        return buildings\n",
        "\n",
        "    buildings[is_living_column] = buildings.apply(eval_is_living, axis=1)\n",
        "    buildings = eval_population(buildings, population_column, area_per_person)\n",
        "    buildings.reset_index(drop=True, inplace=True)\n",
        "    logger.debug(\"Done!\")\n",
        "    return buildings[\n",
        "        [\n",
        "            \"building\",\n",
        "            \"addr:street\",\n",
        "            \"addr:housenumber\",\n",
        "            \"amenity\",\n",
        "            \"area\",\n",
        "            \"name\",\n",
        "            \"building:levels\",\n",
        "            \"leisure\",\n",
        "            #\"design:year\",\n",
        "            is_living_column,\n",
        "            \"building:levels_is_real\",\n",
        "            population_column,\n",
        "            \"geometry\",\n",
        "        ]\n",
        "    ]"
      ]
    },
    {
      "cell_type": "code",
      "execution_count": null,
      "metadata": {
        "id": "Ke2tL9Q6rNvT"
      },
      "outputs": [],
      "source": [
        "buildings = download_buildings(osm_territory_id = 1115367, area_per_person = 33) # id = 1115367 - это Приморский район"
      ]
    },
    {
      "cell_type": "code",
      "execution_count": null,
      "metadata": {
        "colab": {
          "base_uri": "https://localhost:8080/",
          "height": 914
        },
        "id": "WcSupLTkrRxj",
        "outputId": "0128e2fd-25fb-4b7a-a21b-1982916ae6c9"
      },
      "outputs": [],
      "source": [
        "buildings.explore(column='approximate_pop',tiles='CartoDB positron')"
      ]
    },
    {
      "cell_type": "code",
      "execution_count": null,
      "metadata": {
        "id": "Jugcmmn6sKuy"
      },
      "outputs": [],
      "source": [
        "# Сброс индекса, чтобы превратить индексы в обычные столбцы\n",
        "buildings = buildings.reset_index(drop=True)"
      ]
    },
    {
      "cell_type": "code",
      "execution_count": null,
      "metadata": {
        "colab": {
          "base_uri": "https://localhost:8080/",
          "height": 573
        },
        "id": "hAG0BZWEr3a7",
        "outputId": "186ea77a-8ed0-4653-b60c-c2e2467f5679"
      },
      "outputs": [],
      "source": [
        "# Добавляем столбец с названием района\n",
        "\n",
        "# НЕ ЗАБЫТЬ ПОМЕНЯТЬ НАЗВАНИЕ\n",
        "\n",
        "buildings['District'] = 'Приморский'\n",
        "\n",
        "# Добавляем столбец с количеством населения в той форме, в которой это надо ObjectNat\n",
        "buildings['storeys_count'] = buildings['building:levels']\n",
        "\n",
        "# Проверяем, что правильно выводится\n",
        "buildings.head()"
      ]
    },
    {
      "cell_type": "code",
      "execution_count": null,
      "metadata": {
        "colab": {
          "base_uri": "https://localhost:8080/"
        },
        "id": "x6DaOWyKtun6",
        "outputId": "94888f29-08cb-419d-c1a9-548e6fa411f5"
      },
      "outputs": [],
      "source": [
        "# Проверяем общее количество скачаных домов\n",
        "\n",
        "print(buildings.count().max())"
      ]
    },
    {
      "cell_type": "code",
      "execution_count": null,
      "metadata": {
        "colab": {
          "base_uri": "https://localhost:8080/"
        },
        "id": "X9JtNqEItv9K",
        "outputId": "10a8ea47-88aa-43ca-d27b-da9a28c433ba"
      },
      "outputs": [],
      "source": [
        "# Оставляем только жилые и проверяем, сколько осталось\n",
        "\n",
        "buildings = buildings[buildings['is_living']]\n",
        "print(buildings.count().max())"
      ]
    },
    {
      "cell_type": "code",
      "execution_count": null,
      "metadata": {
        "colab": {
          "base_uri": "https://localhost:8080/",
          "height": 1000
        },
        "id": "W4h5Z0Bwu6bi",
        "outputId": "821be0bc-15ee-415b-8a08-0b70d1655536"
      },
      "outputs": [],
      "source": [
        "# Еще раз сбрасываем индекс, чтобы удалить пропущенные номера строк\n",
        "buildings = buildings.reset_index(drop=True)\n",
        "\n",
        "buildings"
      ]
    },
    {
      "cell_type": "code",
      "execution_count": null,
      "metadata": {
        "colab": {
          "base_uri": "https://localhost:8080/",
          "height": 964
        },
        "id": "R63pVACewYWp",
        "outputId": "013ffffd-c80f-46aa-af4a-e2525b4a1098"
      },
      "outputs": [],
      "source": [
        "# Это расселение от ObjectNat\n",
        "# ЗАПУСКАТЬ ДВА РАЗА\n",
        "# !!!!! НЕ ЗАБЫТЬ ПОМЕНЯТЬ НАСЕЛЕНИЕ !!!!!\n",
        "\n",
        "from objectnat import get_balanced_buildings\n",
        "import geopandas as gpd\n",
        "\n",
        "# Importing the necessary libraries:\n",
        "# - 'get_balanced_buildings' from 'objectnat' to balance the population across buildings\n",
        "# - 'geopandas' for handling geospatial data\n",
        "\n",
        "#buildings = gpd.read_parquet(\"examples_data/buildings.parquet\")\n",
        "# Loading building data from a .parquet file.\n",
        "\n",
        "living_building = buildings[buildings['is_living']]\n",
        "# Filtering the buildings to include only residential buildings, based on the 'is_living' attribute.\n",
        "\n",
        "buildings.to_crs(32643, inplace=True)\n",
        "# Reprojecting the buildings' geometries to the local coordinate system EPSG:32643 (UTM zone)\n",
        "# to ensure accurate calculation of areas for balancing the population.\n",
        "\n",
        "balanced_buildings = get_balanced_buildings(living_buildings=living_building, population = 5451) # ВОТ ЗДЕСЬ ПОМЕНЯТЬ\n",
        "# Balancing the population distribution across the residential buildings.\n",
        "# - 'living_buildings': a GeoDataFrame of only the residential buildings.\n",
        "# - 'population': the total population (36000) to distribute across the buildings.\n",
        "# The result is a GeoDataFrame where the population is redistributed based on building attributes (like floor count or living area).\n",
        "\n",
        "balanced_buildings"
      ]
    },
    {
      "cell_type": "code",
      "execution_count": null,
      "metadata": {
        "colab": {
          "base_uri": "https://localhost:8080/",
          "height": 487
        },
        "id": "GAZnGEaayW1Y",
        "outputId": "767eb234-2cb5-43cc-ac10-bee326873c61"
      },
      "outputs": [],
      "source": [
        "# Это расселение, которое я сделал сам\n",
        "# !!!!! НЕ ЗАБЫТЬ ПОМЕНЯТЬ НАСЕЛЕНИЕ !!!!!\n",
        "\n",
        "df = balanced_buildings.copy() # Копируем датафрейм\n",
        "\n",
        "total_population = 5451 # Определяем общую численность населения ВОТ ЗДЕСЬ ПОМЕНЯТЬ\n",
        "total_area = df['living_area'].sum() # Определяем общую жилую площадь\n",
        "\n",
        "# Распределяем население по домам\n",
        "df['new_population'] = (df['living_area'] / total_area * total_population).round().astype(int)\n",
        "\n",
        "# Корректируем распределение, если сумма не совпадает с общим населением\n",
        "difference = total_population - df['new_population'].sum()\n",
        "\n",
        "if difference > 0:\n",
        "    # Находим индексы для добавления единиц населению\n",
        "    idx_to_add = np.random.choice(df.index, size=difference, replace=True)\n",
        "    for idx in idx_to_add:\n",
        "        df.at[idx, 'new_population'] += 1\n",
        "\n",
        "elif difference < 0:\n",
        "    # Находим индексы для уменьшения населения\n",
        "    population_to_remove = -difference\n",
        "    idx_to_remove = np.random.choice(df.index, size=population_to_remove, replace=True)\n",
        "    for idx in idx_to_remove:\n",
        "        # Уменьшаем на 1 только если это возможно\n",
        "        if df.at[idx, 'new_population'] > 0:\n",
        "            df.at[idx, 'new_population'] -= 1\n",
        "\n",
        "# Результат\n",
        "df.head()"
      ]
    },
    {
      "cell_type": "code",
      "execution_count": null,
      "metadata": {
        "colab": {
          "base_uri": "https://localhost:8080/"
        },
        "id": "UrYbc8Fb1jgX",
        "outputId": "21e5abd0-a2ec-44fd-f50c-f2cef6e61633"
      },
      "outputs": [],
      "source": [
        "# Cравнение результатов расселения\n",
        "\n",
        "objectnat = 'population'\n",
        "my_code = 'new_population'\n",
        "\n",
        "# Вычисление минимального, максимального значения и суммы\n",
        "min_value = df[objectnat].min()\n",
        "max_value = df[objectnat].max()\n",
        "sum_value = df[objectnat].sum()\n",
        "\n",
        "min_value_1 = df[my_code].min()\n",
        "max_value_1 = df[my_code].max()\n",
        "sum_value_1 = df[my_code].sum()\n",
        "\n",
        "# Вывод результатов\n",
        "print(f\"Минимальное значение: {min_value}\")\n",
        "print(f\"Минимальное значение: {min_value_1}\")\n",
        "print(f\"Максимальное значение: {max_value}\")\n",
        "print(f\"Максимальное значение: {max_value_1}\")\n",
        "print(f\"Сумма всех значений: {sum_value}\")\n",
        "print(f\"Сумма всех значений: {sum_value_1}\")"
      ]
    },
    {
      "cell_type": "code",
      "execution_count": null,
      "metadata": {
        "id": "GUFCkZZS6wWl"
      },
      "outputs": [],
      "source": [
        "# Удаляем ненужные столбцы\n",
        "\n",
        "df.drop(['amenity', 'name', 'leisure', 'approximate_pop', 'building:levels', 'building:levels_is_real', 'is_living'], axis=1, inplace=True)"
      ]
    },
    {
      "cell_type": "code",
      "execution_count": null,
      "metadata": {
        "colab": {
          "base_uri": "https://localhost:8080/",
          "height": 597
        },
        "id": "KeoqstVv9Zb7",
        "outputId": "2de9180a-5cb5-4cb4-fc9f-d92164743b75"
      },
      "outputs": [],
      "source": [
        "# Оставшиеся столбцы расставляем в нужном порядке и проверяем, что все сработало\n",
        "\n",
        "df = df.reindex(columns=['building', 'District', 'addr:street', 'addr:housenumber', 'area', 'storeys_count', 'living_area', 'population', 'new_population', 'geometry'])\n",
        "df"
      ]
    },
    {
      "cell_type": "code",
      "execution_count": null,
      "metadata": {
        "colab": {
          "base_uri": "https://localhost:8080/",
          "height": 914
        },
        "id": "4AOVKh9y-anD",
        "outputId": "a5d9d500-25ca-4762-be65-a1c29b70026c"
      },
      "outputs": [],
      "source": [
        "# Смотрим, какая красота получилась\n",
        "\n",
        "df.explore(column='new_population',tiles='CartoDB positron')"
      ]
    },
    {
      "cell_type": "code",
      "execution_count": null,
      "metadata": {
        "id": "6F_Bf2f_voE5"
      },
      "outputs": [],
      "source": [
        "# И сохраняем ее в файл\n",
        "# Не забыть поменять название файла !!!!\n",
        "\n",
        "df.to_file(os.path.join(data_path,\"Здания Приморский.geojson\"))"
      ]
    },
    {
      "cell_type": "markdown",
      "metadata": {},
      "source": [
        "Это более оптимизированная версия кода. А может и нет. Прошлую я писал три месяца назад и не помню, что там происходит, так что пришлось переделать"
      ]
    },
    {
      "cell_type": "code",
      "execution_count": null,
      "metadata": {},
      "outputs": [],
      "source": [
        "buildings = gpd.read_file(os.path.join(data_path, 'buildings.geojson'))\n",
        "buildings['unique_id'] = range(1, len(buildings) + 1)\n",
        "buildings.explore(column='new_population',tiles='CartoDB positron')"
      ]
    },
    {
      "cell_type": "code",
      "execution_count": null,
      "metadata": {},
      "outputs": [],
      "source": [
        "# Создание датафрейма с данными по населению\n",
        "\n",
        "district_demand_data = {\n",
        "    'name_of_district': ['Адмиралтейский', 'Василеостровский', 'Выборгский', 'Калининский', 'Кировский', 'Колпинский', \n",
        " 'Красногвардейский', 'Красносельский', 'Кронштадтский', 'Курортный', 'Московский', 'Невский', \n",
        " 'Петроградский', 'Петродворцовый', 'Приморский', 'Пушкинский', 'Фрунзенский', 'Центральный', \n",
        " 'Кудрово', 'Янино-1', 'Новое Девяткино', 'Бугры', 'Аннино', 'Мурино', 'Сертолово'],\n",
        "    'actual_population': [1194, 1590, 4208, 4109, 2561, 1456, \n",
        "                          2829, 3366, 345, 648, 2579, 4249, \n",
        "                          893, 1031, 5451, 2092, 3197, 1537, \n",
        "                          502, 161, 193, 254, 78, 852, 542]\n",
        "}\n",
        "\n",
        "district_demand_data = pd.DataFrame(district_demand_data)\n",
        "\n",
        "district_demand_data"
      ]
    },
    {
      "cell_type": "code",
      "execution_count": null,
      "metadata": {},
      "outputs": [],
      "source": [
        "name_of_district = 'Сертолово'\n",
        "actual_population = 542"
      ]
    },
    {
      "cell_type": "code",
      "execution_count": null,
      "metadata": {},
      "outputs": [],
      "source": [
        "name_of_district = district_demand_data['name_of_district']\n",
        "actual_population = district_demand_data['actual_population']"
      ]
    },
    {
      "cell_type": "code",
      "execution_count": null,
      "metadata": {},
      "outputs": [],
      "source": [
        "filter_for_buildings = buildings[buildings['District'] == name_of_district]\n",
        "\n",
        "total_population = actual_population # Определяем общую численность населения ВОТ ЗДЕСЬ ПОМЕНЯТЬ\n",
        "total_area = filter_for_buildings['living_area'].sum() # Определяем общую жилую площадь\n",
        "\n",
        "# Распределяем население по домам\n",
        "filter_for_buildings['demand'] = (filter_for_buildings['living_area'] / total_area * total_population).round().astype(int)\n",
        "\n",
        "# Корректируем распределение, если сумма не совпадает с общим населением\n",
        "difference = total_population - filter_for_buildings['demand'].sum()\n",
        "\n",
        "if difference > 0:\n",
        "    # Находим индексы для добавления единиц населению\n",
        "    idx_to_add = np.random.choice(filter_for_buildings.index, size=difference, replace=True)\n",
        "    for idx in idx_to_add:\n",
        "        filter_for_buildings.at[idx, 'demand'] += 1\n",
        "\n",
        "elif difference < 0:\n",
        "    # Находим индексы для уменьшения населения\n",
        "    population_to_remove = -difference\n",
        "    idx_to_remove = np.random.choice(filter_for_buildings.index, size=population_to_remove, replace=True)\n",
        "    for idx in idx_to_remove:\n",
        "        # Уменьшаем на 1 только если это возможно\n",
        "        if filter_for_buildings.at[idx, 'demand'] > 0:\n",
        "            filter_for_buildings.at[idx, 'demand'] -= 1\n",
        "\n",
        "# Результат filter_for_buildings.head()"
      ]
    },
    {
      "cell_type": "code",
      "execution_count": null,
      "metadata": {},
      "outputs": [],
      "source": [
        "# Добавляем новые значения населения в копию исходного датафрейма\n",
        "\n",
        "buildings_with_demand = buildings.merge(filter_for_buildings[['unique_id', 'demand']], on='unique_id', how='left')\n",
        "buildings_with_demand.info()"
      ]
    },
    {
      "cell_type": "code",
      "execution_count": null,
      "metadata": {},
      "outputs": [],
      "source": [
        "# Добавляем новые значения населения в копию исходного датафрейма\n",
        "\n",
        "buildings_with_demand = buildings_with_demand.merge(filter_for_buildings[['unique_id', 'demand']], on='unique_id', how='left')\n",
        "buildings_with_demand.info()"
      ]
    },
    {
      "cell_type": "code",
      "execution_count": null,
      "metadata": {},
      "outputs": [],
      "source": [
        "# Объединение двух столбцов в один\n",
        "buildings_with_demand['demand'] = buildings_with_demand['demand_x'].combine_first(buildings_with_demand['demand_y'])\n",
        "buildings_with_demand = buildings_with_demand.drop(columns=['demand_x', 'demand_y'])\n",
        "buildings_with_demand.info()\n",
        "\n",
        "new_buildings = buildings_with_demand\n",
        "new_buildings['demand'] = new_buildings['demand'].astype('int64')\n",
        "new_buildings = new_buildings.drop(columns=['population', 'new_population'])\n",
        "new_buildings.to_file(os.path.join(data_path,\"buildings.geojson\"))\n",
        "new_buildings.info()"
      ]
    },
    {
      "cell_type": "code",
      "execution_count": null,
      "metadata": {},
      "outputs": [],
      "source": [
        "actual = 'demand'\n",
        "\n",
        "# Вычисление минимального, максимального значения и суммы\n",
        "min_value = new_buildings[actual].min()\n",
        "max_value = new_buildings[actual].max()\n",
        "sum_value = new_buildings[actual].sum()\n",
        "\n",
        "# Вывод результатов\n",
        "print(f\"Минимальное значение: {min_value}\")\n",
        "print(f\"Максимальное значение: {max_value}\")\n",
        "print(f\"Сумма всех значений: {sum_value}\")\n"
      ]
    }
  ],
  "metadata": {
    "colab": {
      "provenance": []
    },
    "kernelspec": {
      "display_name": "Python 3",
      "name": "python3"
    },
    "language_info": {
      "codemirror_mode": {
        "name": "ipython",
        "version": 3
      },
      "file_extension": ".py",
      "mimetype": "text/x-python",
      "name": "python",
      "nbconvert_exporter": "python",
      "pygments_lexer": "ipython3",
      "version": "3.11.9"
    }
  },
  "nbformat": 4,
  "nbformat_minor": 0
}
